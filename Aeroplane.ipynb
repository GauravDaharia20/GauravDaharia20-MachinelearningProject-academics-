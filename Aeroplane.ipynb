{
  "nbformat": 4,
  "nbformat_minor": 0,
  "metadata": {
    "colab": {
      "name": "Aeroplane.ipynb",
      "provenance": [],
      "collapsed_sections": []
    },
    "kernelspec": {
      "name": "python3",
      "display_name": "Python 3"
    },
    "accelerator": "GPU"
  },
  "cells": [
    {
      "cell_type": "markdown",
      "metadata": {
        "id": "nKNDXsR2L7IO",
        "colab_type": "text"
      },
      "source": [
        "# In this block of code required liberary for ploting and resampling is imported."
      ]
    },
    {
      "cell_type": "code",
      "metadata": {
        "id": "02DiClkk_JF6",
        "colab_type": "code",
        "outputId": "183cea06-ead1-4b09-f4d6-a0e5362d89e1",
        "colab": {
          "base_uri": "https://localhost:8080/",
          "height": 105
        }
      },
      "source": [
        "import pandas as pd\n",
        "import numpy as np\n",
        "import seaborn as sns\n",
        "import matplotlib.pyplot as plt\n",
        "from sklearn.preprocessing import LabelEncoder,MinMaxScaler,StandardScaler\n",
        "from imblearn.over_sampling import SMOTE\n",
        "from sklearn.decomposition import PCA\n",
        "from sklearn.feature_selection import RFECV,RFE"
      ],
      "execution_count": 0,
      "outputs": [
        {
          "output_type": "stream",
          "text": [
            "/usr/local/lib/python3.6/dist-packages/sklearn/externals/six.py:31: FutureWarning: The module is deprecated in version 0.21 and will be removed in version 0.23 since we've dropped support for Python 2.7. Please rely on the official version of six (https://pypi.org/project/six/).\n",
            "  \"(https://pypi.org/project/six/).\", FutureWarning)\n",
            "/usr/local/lib/python3.6/dist-packages/sklearn/utils/deprecation.py:144: FutureWarning: The sklearn.neighbors.base module is  deprecated in version 0.22 and will be removed in version 0.24. The corresponding classes / functions should instead be imported from sklearn.neighbors. Anything that cannot be imported from sklearn.neighbors is now part of the private API.\n",
            "  warnings.warn(message, FutureWarning)\n"
          ],
          "name": "stderr"
        }
      ]
    },
    {
      "cell_type": "code",
      "metadata": {
        "id": "7uNrA7ViKg0f",
        "colab_type": "code",
        "colab": {}
      },
      "source": [
        "encode = LabelEncoder()\n",
        "sme = SMOTE()\n",
        "pca = PCA()"
      ],
      "execution_count": 0,
      "outputs": []
    },
    {
      "cell_type": "markdown",
      "metadata": {
        "id": "ngbl8qKUOTgx",
        "colab_type": "text"
      },
      "source": [
        "# Driver Code"
      ]
    },
    {
      "cell_type": "code",
      "metadata": {
        "id": "E6X8hgsc9VBJ",
        "colab_type": "code",
        "outputId": "85eb9e63-148f-4494-c61a-e15c5b1f7f1d",
        "colab": {
          "base_uri": "https://localhost:8080/",
          "height": 51
        }
      },
      "source": [
        "!pip install -U -q PyDrive\n",
        "from pydrive.auth import GoogleAuth\n",
        "from pydrive.drive import GoogleDrive\n",
        "from google.colab import auth\n",
        "from oauth2client.client import GoogleCredentials\n",
        "# Authenticate and create the PyDrive client.\n",
        "auth.authenticate_user()\n",
        "gauth = GoogleAuth()\n",
        "gauth.credentials = GoogleCredentials.get_application_default()\n",
        "drive = GoogleDrive(gauth)\n",
        "\n",
        "link='https://drive.google.com/open?id=1hdavpx6TNFMm_5unP66Wxkls_sX4Xgyh'\n",
        "link2 = 'https://drive.google.com/open?id=1hkwXBcF9aVdGTBSVWORIEN131QqZnXBL'\n",
        "#train data link\n",
        "fluff, id = link.split('=')\n",
        "fluff,id1 = link2.split('=')\n",
        "print (id) # Verify that you have everything after '='\n",
        "print(id1)\n",
        "#train data\n",
        "downloaded = drive.CreateFile({'id':id}) \n",
        "downloaded1 = drive.CreateFile({'id':id1}) \n",
        "downloaded.GetContentFile('train_aero.csv')\n",
        "downloaded1.GetContentFile('test_aero.csv')  \n",
        "data = pd.read_csv('train_aero.csv')\n",
        "test = pd.read_csv('test_aero.csv')\n",
        "# Dataset is now stored in a Panda"
      ],
      "execution_count": 0,
      "outputs": [
        {
          "output_type": "stream",
          "text": [
            "1hdavpx6TNFMm_5unP66Wxkls_sX4Xgyh\n",
            "1hkwXBcF9aVdGTBSVWORIEN131QqZnXBL\n"
          ],
          "name": "stdout"
        }
      ]
    },
    {
      "cell_type": "markdown",
      "metadata": {
        "id": "qkfMshh8OaJS",
        "colab_type": "text"
      },
      "source": [
        "# Label for our Model\n",
        "# L1: Significant_Damage_And_Serious_Injuries\n",
        "# L2: Significant_Damage_And_Fatalities\n",
        "# L3: Minor_Damage_And_Injuries\n",
        "# L4: Highly_Fatal_And_Damaging\n"
      ]
    },
    {
      "cell_type": "code",
      "metadata": {
        "id": "MX_XJTL7dYNr",
        "colab_type": "code",
        "outputId": "8e960752-158f-4532-df54-d3feed1102f9",
        "colab": {
          "base_uri": "https://localhost:8080/",
          "height": 34
        }
      },
      "source": [
        "Y = data['Severity']\n",
        "Y.shape"
      ],
      "execution_count": 0,
      "outputs": [
        {
          "output_type": "execute_result",
          "data": {
            "text/plain": [
              "(10000,)"
            ]
          },
          "metadata": {
            "tags": []
          },
          "execution_count": 23
        }
      ]
    },
    {
      "cell_type": "markdown",
      "metadata": {
        "id": "28Zb3J_KO4g5",
        "colab_type": "text"
      },
      "source": [
        "# Data for our Model"
      ]
    },
    {
      "cell_type": "code",
      "metadata": {
        "id": "loLYWw-H_Hw2",
        "colab_type": "code",
        "colab": {}
      },
      "source": [
        "X = data.iloc[:,1:12]"
      ],
      "execution_count": 0,
      "outputs": []
    },
    {
      "cell_type": "markdown",
      "metadata": {
        "id": "KQdSDcpzO_2g",
        "colab_type": "text"
      },
      "source": [
        "# This is our correlation heat map which shows the dependency of each feature with it neighbouring features."
      ]
    },
    {
      "cell_type": "code",
      "metadata": {
        "id": "7NDFtfwU9xvx",
        "colab_type": "code",
        "outputId": "cb555783-99b1-4efd-f8d3-044c72db995e",
        "colab": {
          "base_uri": "https://localhost:8080/",
          "height": 400
        }
      },
      "source": [
        "sns.heatmap(data.corr(),vmin=-1, vmax=1, center=0,cmap= 'coolwarm')"
      ],
      "execution_count": 0,
      "outputs": [
        {
          "output_type": "execute_result",
          "data": {
            "text/plain": [
              "<matplotlib.axes._subplots.AxesSubplot at 0x7f39bf0359e8>"
            ]
          },
          "metadata": {
            "tags": []
          },
          "execution_count": 8
        },
        {
          "output_type": "display_data",
          "data": {
            "image/png": "[encoded data removed]",
            "text/plain": [
              "<Figure size 432x288 with 2 Axes>"
            ]
          },
          "metadata": {
            "tags": []
          }
        }
      ]
    },
    {
      "cell_type": "markdown",
      "metadata": {
        "id": "xWVE-cIWPT2Y",
        "colab_type": "text"
      },
      "source": [
        "# In this section of code we have scaled our data upto a certain range."
      ]
    },
    {
      "cell_type": "code",
      "metadata": {
        "id": "Vx21vvqD52FW",
        "colab_type": "code",
        "colab": {}
      },
      "source": [
        "X['Safety_Score'] = MinMaxScaler(feature_range=(0,100)).fit_transform(X[['Safety_Score']])\n",
        "X['Days_Since_Inspection'] = MinMaxScaler(feature_range=(1,23)).fit_transform(X[['Days_Since_Inspection']])\n",
        "X['Total_Safety_Complaints'] = MinMaxScaler(feature_range=(0,54)).fit_transform(X[['Total_Safety_Complaints']])\n",
        "X['Control_Metric'] = MinMaxScaler(feature_range=(0,100)).fit_transform(X[['Control_Metric']])\n",
        "\n",
        "X['Turbulence_In_gforces'] = MinMaxScaler(feature_range=(0.13,0.88)).fit_transform(X[['Turbulence_In_gforces']])\n",
        "X['Cabin_Temperature'] = MinMaxScaler(feature_range=(74.74,97.51)).fit_transform(X[['Cabin_Temperature']])\n",
        "X['Accident_Type_Code'] = MinMaxScaler(feature_range=(1,7)).fit_transform(X[['Accident_Type_Code']])\n",
        "X['Max_Elevation'] = MinMaxScaler(feature_range=(800,6000)).fit_transform(X[['Max_Elevation']])\n",
        "X['Violations'] = MinMaxScaler(feature_range=(0,5)).fit_transform(X[['Violations']])\n",
        "X['Adverse_Weather_Metric'] = MinMaxScaler(feature_range=(0,2.3)).fit_transform(X[['Adverse_Weather_Metric']])"
      ],
      "execution_count": 0,
      "outputs": []
    },
    {
      "cell_type": "markdown",
      "metadata": {
        "id": "_2AJgv1FPocn",
        "colab_type": "text"
      },
      "source": [
        "# In this block of code I have transformed our label from string to number so that it can become easy for our model to predict "
      ]
    },
    {
      "cell_type": "code",
      "metadata": {
        "id": "F-xHbaYen1yP",
        "colab_type": "code",
        "outputId": "a166282c-a0c1-4078-c3ce-1215f28956e6",
        "colab": {
          "base_uri": "https://localhost:8080/",
          "height": 34
        }
      },
      "source": [
        "label = encode.fit_transform(Y)"
      ],
      "execution_count": 0,
      "outputs": [
        {
          "output_type": "execute_result",
          "data": {
            "text/plain": [
              "(10000,)"
            ]
          },
          "metadata": {
            "tags": []
          },
          "execution_count": 26
        }
      ]
    },
    {
      "cell_type": "code",
      "metadata": {
        "id": "frOwwsBDoQGB",
        "colab_type": "code",
        "outputId": "a1577349-0605-4dcc-8f4a-69b09b9f2eac",
        "colab": {
          "base_uri": "https://localhost:8080/",
          "height": 265
        }
      },
      "source": [
        "plt.hist(label)\n",
        "plt.show()"
      ],
      "execution_count": 0,
      "outputs": [
        {
          "output_type": "display_data",
          "data": {
            "image/png": "[encoded data removed]",
            "text/plain": [
              "<Figure size 432x288 with 1 Axes>"
            ]
          },
          "metadata": {
            "tags": []
          }
        }
      ]
    },
    {
      "cell_type": "markdown",
      "metadata": {
        "id": "apyjsK4ZQGxR",
        "colab_type": "text"
      },
      "source": [
        "# Here I have imported all the liberary that is relevant for model preperation and then after all these process ensembling technique is used to train model.  "
      ]
    },
    {
      "cell_type": "code",
      "metadata": {
        "id": "YKm0JHAXpAeX",
        "colab_type": "code",
        "colab": {}
      },
      "source": [
        "from sklearn.ensemble import RandomForestClassifier,VotingClassifier,ExtraTreesClassifier\n",
        "from sklearn.tree import DecisionTreeClassifier\n",
        "from sklearn.svm import SVC\n",
        "from sklearn.naive_bayes import GaussianNB\n",
        "from sklearn.metrics import confusion_matrix,classification_report,accuracy_score,plot_confusion_matrix\n",
        "from sklearn.model_selection import cross_val_score,StratifiedKFold,train_test_split as tts\n",
        "from sklearn.impute import SimpleImputer"
      ],
      "execution_count": 0,
      "outputs": []
    },
    {
      "cell_type": "code",
      "metadata": {
        "id": "_s9rqbzyS28L",
        "colab_type": "code",
        "colab": {}
      },
      "source": [
        "X.shape,label.shape\n",
        "label = np.array(label)"
      ],
      "execution_count": 0,
      "outputs": []
    },
    {
      "cell_type": "code",
      "metadata": {
        "id": "xbvyCofpSmaU",
        "colab_type": "code",
        "outputId": "4463656f-4704-4bcb-aa55-5d05e8253077",
        "colab": {
          "base_uri": "https://localhost:8080/",
          "height": 34
        }
      },
      "source": [
        "xtrain,xtest,ytrain,ytest=tts(X,label,test_size=0.3,random_state=0)\n",
        "set(ytest)"
      ],
      "execution_count": 0,
      "outputs": [
        {
          "output_type": "execute_result",
          "data": {
            "text/plain": [
              "{0, 1, 2, 3}"
            ]
          },
          "metadata": {
            "tags": []
          },
          "execution_count": 121
        }
      ]
    },
    {
      "cell_type": "code",
      "metadata": {
        "id": "1tDYcloq6d_a",
        "colab_type": "code",
        "colab": {}
      },
      "source": [
        "ens=[] #my ensemble"
      ],
      "execution_count": 0,
      "outputs": []
    },
    {
      "cell_type": "code",
      "metadata": {
        "id": "W6kbkY8i6t8o",
        "colab_type": "code",
        "colab": {}
      },
      "source": [
        "ens.append(('rfc',RandomForestClassifier(n_estimators=100)))\n",
        "ens.append(('svc',SVC(kernel='rbf',gamma='auto',probability=True)))\n",
        "ens.append(('ext',ExtraTreesClassifier(n_estimators=100)))"
      ],
      "execution_count": 0,
      "outputs": []
    },
    {
      "cell_type": "code",
      "metadata": {
        "id": "5N4wLFJQ7rex",
        "colab_type": "code",
        "colab": {}
      },
      "source": [
        "clf = VotingClassifier(ens,voting='hard',weights=[300,600,900])"
      ],
      "execution_count": 0,
      "outputs": []
    },
    {
      "cell_type": "code",
      "metadata": {
        "id": "HAkEXEyqU330",
        "colab_type": "code",
        "outputId": "776bdfe5-3a46-4c52-aecf-1366dcb03397",
        "colab": {
          "base_uri": "https://localhost:8080/",
          "height": 561
        }
      },
      "source": [
        "clf.fit(xtrain,ytrain)"
      ],
      "execution_count": 0,
      "outputs": [
        {
          "output_type": "execute_result",
          "data": {
            "text/plain": [
              "VotingClassifier(estimators=[('rfc',\n",
              "                              RandomForestClassifier(bootstrap=True,\n",
              "                                                     ccp_alpha=0.0,\n",
              "                                                     class_weight=None,\n",
              "                                                     criterion='gini',\n",
              "                                                     max_depth=None,\n",
              "                                                     max_features='auto',\n",
              "                                                     max_leaf_nodes=None,\n",
              "                                                     max_samples=None,\n",
              "                                                     min_impurity_decrease=0.0,\n",
              "                                                     min_impurity_split=None,\n",
              "                                                     min_samples_leaf=1,\n",
              "                                                     min_samples_split=2,\n",
              "                                                     min_weight_fraction_leaf=0.0,\n",
              "                                                     n_estimators=100,\n",
              "                                                     n_jobs=None,\n",
              "                                                     oob_scor...\n",
              "                                                   max_depth=None,\n",
              "                                                   max_features='auto',\n",
              "                                                   max_leaf_nodes=None,\n",
              "                                                   max_samples=None,\n",
              "                                                   min_impurity_decrease=0.0,\n",
              "                                                   min_impurity_split=None,\n",
              "                                                   min_samples_leaf=1,\n",
              "                                                   min_samples_split=2,\n",
              "                                                   min_weight_fraction_leaf=0.0,\n",
              "                                                   n_estimators=100,\n",
              "                                                   n_jobs=None, oob_score=False,\n",
              "                                                   random_state=None, verbose=0,\n",
              "                                                   warm_start=False))],\n",
              "                 flatten_transform=True, n_jobs=None, voting='hard',\n",
              "                 weights=[300, 600, 900])"
            ]
          },
          "metadata": {
            "tags": []
          },
          "execution_count": 122
        }
      ]
    },
    {
      "cell_type": "code",
      "metadata": {
        "id": "qtdu1oBNVQuF",
        "colab_type": "code",
        "outputId": "6056cfae-886c-4186-a420-4973ae771b82",
        "colab": {
          "base_uri": "https://localhost:8080/",
          "height": 34
        }
      },
      "source": [
        "clf.score(xtrain,ytrain)"
      ],
      "execution_count": 0,
      "outputs": [
        {
          "output_type": "execute_result",
          "data": {
            "text/plain": [
              "1.0"
            ]
          },
          "metadata": {
            "tags": []
          },
          "execution_count": 103
        }
      ]
    },
    {
      "cell_type": "code",
      "metadata": {
        "id": "A_B5RYi_VagJ",
        "colab_type": "code",
        "colab": {}
      },
      "source": [
        "pred=clf.predict(xtest)\n"
      ],
      "execution_count": 0,
      "outputs": []
    },
    {
      "cell_type": "code",
      "metadata": {
        "id": "oaQYkvu9YepY",
        "colab_type": "code",
        "outputId": "07348da8-3bae-406f-b443-554a7312e56b",
        "colab": {
          "base_uri": "https://localhost:8080/",
          "height": 279
        }
      },
      "source": [
        "plt.xlabel(\"predicted classes\")\n",
        "plt.ylabel(\"frequency\")\n",
        "plt.hist(pred)\n",
        "plt.show()"
      ],
      "execution_count": 0,
      "outputs": [
        {
          "output_type": "display_data",
          "data": {
            "image/png": "[encoded data removed]",
            "text/plain": [
              "<Figure size 432x288 with 1 Axes>"
            ]
          },
          "metadata": {
            "tags": []
          }
        }
      ]
    },
    {
      "cell_type": "code",
      "metadata": {
        "id": "1f7iTMPaZiwA",
        "colab_type": "code",
        "outputId": "88ecc368-0792-46c9-861d-575bf421bb7f",
        "colab": {
          "base_uri": "https://localhost:8080/",
          "height": 279
        }
      },
      "source": [
        "plt.xlabel(\"accutual classes\")\n",
        "plt.ylabel(\"frequency\")\n",
        "plt.hist(label)\n",
        "plt.show()"
      ],
      "execution_count": 0,
      "outputs": [
        {
          "output_type": "display_data",
          "data": {
            "image/png": "[encoded data removed]",
            "text/plain": [
              "<Figure size 432x288 with 1 Axes>"
            ]
          },
          "metadata": {
            "tags": []
          }
        }
      ]
    },
    {
      "cell_type": "code",
      "metadata": {
        "id": "1fmQVVkmWeRz",
        "colab_type": "code",
        "outputId": "bbbdd21c-eb0a-4423-eded-9c3742588ba3",
        "colab": {
          "base_uri": "https://localhost:8080/",
          "height": 34
        }
      },
      "source": [
        "accuracy_score(ytest,pred)"
      ],
      "execution_count": 0,
      "outputs": [
        {
          "output_type": "execute_result",
          "data": {
            "text/plain": [
              "0.875"
            ]
          },
          "metadata": {
            "tags": []
          },
          "execution_count": 105
        }
      ]
    },
    {
      "cell_type": "code",
      "metadata": {
        "id": "kUY67qqgZu7h",
        "colab_type": "code",
        "outputId": "1e4f938c-0763-493a-8ed4-07acb7540c94",
        "colab": {
          "base_uri": "https://localhost:8080/",
          "height": 204
        }
      },
      "source": [
        "print(classification_report(ytest,pred))"
      ],
      "execution_count": 0,
      "outputs": [
        {
          "output_type": "stream",
          "text": [
            "              precision    recall  f1-score   support\n",
            "\n",
            "           0       0.87      0.94      0.91       905\n",
            "           1       0.86      0.84      0.85       758\n",
            "           2       0.88      0.82      0.85       494\n",
            "           3       0.89      0.86      0.88       843\n",
            "\n",
            "    accuracy                           0.88      3000\n",
            "   macro avg       0.88      0.87      0.87      3000\n",
            "weighted avg       0.88      0.88      0.87      3000\n",
            "\n"
          ],
          "name": "stdout"
        }
      ]
    },
    {
      "cell_type": "code",
      "metadata": {
        "id": "aDID3GnkZ0y_",
        "colab_type": "code",
        "outputId": "5039d1da-2259-480c-f632-ec780c9414e8",
        "colab": {
          "base_uri": "https://localhost:8080/",
          "height": 282
        }
      },
      "source": [
        "cf_matrix=confusion_matrix(ytest,pred)\n",
        "sns.heatmap(cf_matrix,annot=True,cmap='binary')"
      ],
      "execution_count": 0,
      "outputs": [
        {
          "output_type": "execute_result",
          "data": {
            "text/plain": [
              "<matplotlib.axes._subplots.AxesSubplot at 0x7f39b96e42e8>"
            ]
          },
          "metadata": {
            "tags": []
          },
          "execution_count": 139
        },
        {
          "output_type": "display_data",
          "data": {
            "image/png": "[encoded data removed]",
            "text/plain": [
              "<Figure size 432x288 with 2 Axes>"
            ]
          },
          "metadata": {
            "tags": []
          }
        }
      ]
    },
    {
      "cell_type": "code",
      "metadata": {
        "id": "tiqBkM1WcZ3V",
        "colab_type": "code",
        "colab": {}
      },
      "source": [
        ""
      ],
      "execution_count": 0,
      "outputs": []
    }
  ]
}